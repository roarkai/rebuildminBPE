{
 "cells": [
  {
   "cell_type": "code",
   "execution_count": 1,
   "metadata": {},
   "outputs": [],
   "source": [
    "from basic_tokenizer import BasicTokenizer\n",
    "from regex_tokenizer import RegexTokenizer\n",
    "import tiktoken\n"
   ]
  },
  {
   "cell_type": "markdown",
   "metadata": {},
   "source": [
    "### Part1. test the function of BasicTokenizer and RegexTokenizer"
   ]
  },
  {
   "cell_type": "code",
   "execution_count": 2,
   "metadata": {},
   "outputs": [
    {
     "name": "stdout",
     "output_type": "stream",
     "text": [
      "503\n"
     ]
    }
   ],
   "source": [
    "# prepare data\n",
    "with open('toy.txt', 'r') as f:\n",
    "    toy_text = f.read()\n",
    "\n",
    "print(len(toy_text))"
   ]
  },
  {
   "cell_type": "code",
   "execution_count": 7,
   "metadata": {},
   "outputs": [],
   "source": [
    "# hyper-parameters:\n",
    "vocab_size = 256 + 128"
   ]
  },
  {
   "cell_type": "code",
   "execution_count": 16,
   "metadata": {},
   "outputs": [],
   "source": [
    "# create a model and train a BasicTokenizer\n",
    "basic_tokenizer = BasicTokenizer()\n",
    "basic_tokenizer.train(toy_text, vocab_size)\n",
    "# for p, idx in tokenizer.merges.items():\n",
    "#     print(f'{p} => {idx}\\n')"
   ]
  },
  {
   "cell_type": "code",
   "execution_count": 17,
   "metadata": {},
   "outputs": [
    {
     "name": "stdout",
     "output_type": "stream",
     "text": [
      "come on rk\n"
     ]
    }
   ],
   "source": [
    "# simple test the function of BasicTokenizer\n",
    "encode = basic_tokenizer.encode\n",
    "decode = basic_tokenizer.decode\n",
    "print(decode(encode(\"come on rk\")))"
   ]
  },
  {
   "cell_type": "code",
   "execution_count": 9,
   "metadata": {},
   "outputs": [],
   "source": [
    "# create a model and train a RegexTokenizer\n",
    "test_text = toy_text\n",
    "GPT2_SPLIT_PATTERN = r\"\"\"'(?:[sdmt]|ll|ve|re)| ?\\p{L}+| ?\\p{N}+| ?[^\\s\\p{L}\\p{N}]+|\\s+(?!\\S)|\\s+\"\"\"\n",
    "GPT4_SPLIT_PATTERN = r\"\"\"'(?i:[sdmt]|ll|ve|re)|[^\\r\\n\\p{L}\\p{N}]?+\\p{L}+|\\p{N}{1,3}| ?[^\\s\\p{L}\\p{N}]++[\\r\\n]*|\\s*[\\r\\n]|\\s+(?!\\S)|\\s+\"\"\"\n",
    "re_tokenizer = RegexTokenizer(GPT4_SPLIT_PATTERN)\n",
    "re_tokenizer.train(test_text, vocab_size, verbose=False)"
   ]
  },
  {
   "cell_type": "code",
   "execution_count": 10,
   "metadata": {},
   "outputs": [
    {
     "data": {
      "text/plain": [
       "'hello word! this is hello from rk'"
      ]
     },
     "execution_count": 10,
     "metadata": {},
     "output_type": "execute_result"
    }
   ],
   "source": [
    "# simple test the function of RegexTokenizer\n",
    "re_encode = re_tokenizer.encode\n",
    "re_decode = re_tokenizer.decode\n",
    "re_decode(re_encode('hello word! this is hello from rk'))"
   ]
  },
  {
   "cell_type": "markdown",
   "metadata": {},
   "source": [
    "### Part2. compare RegexTokenizer and GPT4 tiktoken"
   ]
  },
  {
   "cell_type": "code",
   "execution_count": 13,
   "metadata": {},
   "outputs": [],
   "source": [
    "text = 'hello world!!!? (안녕하세요!) lol123 😉'\n",
    "enc_gpt4 = tiktoken.get_encoding('cl100k_base')\n"
   ]
  },
  {
   "cell_type": "code",
   "execution_count": 19,
   "metadata": {},
   "outputs": [
    {
     "data": {
      "text/plain": [
       "True"
      ]
     },
     "execution_count": 19,
     "metadata": {},
     "output_type": "execute_result"
    }
   ],
   "source": [
    "ids_basic = basic_tokenizer.encode(text)\n",
    "ids_regex = re_tokenizer.encode(text)\n",
    "ids_gpt4 = enc_gpt4.encode(text)\n",
    "\n",
    "text_basic = basic_tokenizer.decode(ids_basic)\n",
    "text_gpt4 = enc_gpt4.decode(ids_gpt4)\n",
    "text_regex = re_tokenizer.decode(ids_regex)\n",
    "text_gpt4 == text_regex == text_basic"
   ]
  }
 ],
 "metadata": {
  "kernelspec": {
   "display_name": "cs224n",
   "language": "python",
   "name": "cs224n"
  },
  "language_info": {
   "codemirror_mode": {
    "name": "ipython",
    "version": 3
   },
   "file_extension": ".py",
   "mimetype": "text/x-python",
   "name": "python",
   "nbconvert_exporter": "python",
   "pygments_lexer": "ipython3",
   "version": "3.12.2"
  }
 },
 "nbformat": 4,
 "nbformat_minor": 2
}
